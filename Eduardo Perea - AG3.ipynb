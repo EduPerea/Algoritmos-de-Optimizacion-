{
 "cells": [
  {
   "cell_type": "markdown",
   "id": "6385633e",
   "metadata": {},
   "source": [
    "Actividad Guiada 3 de Algoritmos de Optimizacion\n",
    "\n",
    "Nombre: Eduardo Perea Montesino"
   ]
  },
  {
   "cell_type": "code",
   "execution_count": 4,
   "id": "57ca3fa9",
   "metadata": {},
   "outputs": [],
   "source": [
    "import urllib.request #Hacer llamadas http a paginas de la red\n",
    "import tsplib95       #Modulo para las instancias del problema del TSP\n",
    "import math           #Modulo de funciones matematicas. Se usa para exp\n",
    "import random                     #Para generar valores aleatorios\n",
    "import gzip\n"
   ]
  },
  {
   "cell_type": "code",
   "execution_count": 5,
   "id": "9287611a",
   "metadata": {},
   "outputs": [],
   "source": [
    "\n",
    "# Descargar archivo comprimido\n",
    "file_url = \"http://comopt.ifi.uni-heidelberg.de/software/TSPLIB95/tsp/swiss42.tsp.gz\"\n",
    "file = \"swiss42.tsp.gz\"\n",
    "urllib.request.urlretrieve(file_url, file_name)\n",
    "\n",
    "# Leer contenido del archivo como bytes\n",
    "with open(file, 'rb') as f:\n",
    "    file_content = f.read()\n",
    "\n",
    "# Descomprimir archivo\n",
    "uncompressed_content = gzip.decompress(file_content)\n",
    "\n",
    "# Guardar archivo descomprimido\n",
    "output_file_name = \"swiss42.tsp\"\n",
    "with open(output_file_name, 'wb') as f:\n",
    "    f.write(uncompressed_content)\n"
   ]
  },
  {
   "cell_type": "code",
   "execution_count": 10,
   "id": "d63de5ab",
   "metadata": {},
   "outputs": [
    {
     "name": "stdout",
     "output_type": "stream",
     "text": [
      "Estos son los nodos:   [0, 1, 2, 3, 4, 5, 6, 7, 8, 9, 10, 11, 12, 13, 14, 15, 16, 17, 18, 19, 20, 21, 22, 23, 24, 25, 26, 27, 28, 29, 30, 31, 32, 33, 34, 35, 36, 37, 38, 39, 40, 41]\n"
     ]
    }
   ],
   "source": [
    "#Carga de datos y generación de objeto problem\n",
    "###############################################################################\n",
    "problem = tsplib95.load(output_file_name)\n",
    "\n",
    "#Nodos\n",
    "Nodos = list(problem.get_nodes())\n",
    "print('Estos son los nodos:  ', Nodos)\n",
    "#Aristas\n",
    "Aristas = list(problem.get_edges())"
   ]
  },
  {
   "cell_type": "code",
   "execution_count": 11,
   "id": "269aa1a4",
   "metadata": {},
   "outputs": [
    {
     "data": {
      "text/plain": [
       "15"
      ]
     },
     "execution_count": 11,
     "metadata": {},
     "output_type": "execute_result"
    }
   ],
   "source": [
    "#Probamos algunas funciones del objeto problem\n",
    "\n",
    "#Distancia entre nodos\n",
    "problem.get_weight(0, 1)\n",
    "\n",
    "#Todas las funciones\n",
    "#Documentación: https://tsplib95.readthedocs.io/en/v0.6.1/modules.html\n",
    "                \n",
    "#dir(problem)"
   ]
  },
  {
   "cell_type": "markdown",
   "id": "cb45963e",
   "metadata": {},
   "source": [
    "# Funcionas basicas"
   ]
  },
  {
   "cell_type": "code",
   "execution_count": 12,
   "id": "b86b234c",
   "metadata": {},
   "outputs": [],
   "source": [
    "  \n",
    "#Se genera una solucion aleatoria con comienzo en en el nodo 0\n",
    "def crear_solucion(Nodos): \n",
    "    solucion = [Nodos[0]]\n",
    "    for n in Nodos[1:]:\n",
    "        solucion = solucion + [random.choice(list(set(Nodos) - set({Nodos[0]}) - set(solucion)))]\n",
    "    return solucion \n",
    "\n",
    "#Devuelve la distancia entre dos nodos\n",
    "def distancia(a,b, problem):\n",
    "     return problem.get_weight(a,b)\n",
    "\n",
    "#Devuelve la distancia total de una trayectoria/solucion\n",
    "def distancia_total(solucion, problem):\n",
    "    distancia_total = 0\n",
    "    for i in range(len(solucion)-1):\n",
    "        distancia_total += distancia(solucion[i] ,solucion[i+1] ,  problem)\n",
    "    return distancia_total + distancia(solucion[len(solucion)-1] ,solucion[0], problem)\n"
   ]
  },
  {
   "cell_type": "markdown",
   "id": "6e92000d",
   "metadata": {},
   "source": [
    "# BUSQUEDA ALEATORIA"
   ]
  },
  {
   "cell_type": "code",
   "execution_count": 13,
   "id": "c6c24cde",
   "metadata": {},
   "outputs": [
    {
     "name": "stdout",
     "output_type": "stream",
     "text": [
      "Mejor solución: [0, 12, 10, 6, 14, 22, 30, 25, 27, 4, 5, 9, 7, 38, 8, 33, 31, 36, 15, 3, 20, 1, 28, 40, 39, 21, 24, 23, 2, 26, 11, 18, 13, 37, 17, 16, 19, 35, 29, 41, 32, 34]\n",
      "Distancia     : 3654\n"
     ]
    }
   ],
   "source": [
    "def busqueda_aleatoria(problem, N):\n",
    "    #N es el numero de iteraciones\n",
    "    Nodos = list(problem.get_nodes())\n",
    "  \n",
    "    mejor_solucion = []\n",
    "    #mejor_distancia = 10e100                         #Inicializamos con un valor alto\n",
    "    mejor_distancia = float('inf')                    #Inicializamos con un valor alto\n",
    "  \n",
    "    for i in range(N):                                #Criterio de parada: repetir N veces pero podemos incluir otros\n",
    "        solucion = crear_solucion(Nodos)                #Genera una solucion aleatoria\n",
    "        distancia = distancia_total(solucion, problem)  #Calcula el valor objetivo(distancia total)\n",
    "    \n",
    "        if distancia < mejor_distancia:                 #Compara con la mejor obtenida hasta ahora\n",
    "            mejor_solucion = solucion\n",
    "            mejor_distancia = distancia\n",
    "      \n",
    "    print(\"Mejor solución:\" , mejor_solucion) \n",
    "    print(\"Distancia     :\" , mejor_distancia) \n",
    "    return mejor_solucion  \n",
    "\n",
    "    \n",
    "#Busqueda aleatoria con 5000 iteraciones    \n",
    "solucion = busqueda_aleatoria(problem, 10000)    "
   ]
  },
  {
   "cell_type": "markdown",
   "id": "726c7efb",
   "metadata": {},
   "source": [
    "# BUSQUEDA LOCAL"
   ]
  },
  {
   "cell_type": "code",
   "execution_count": 16,
   "id": "00aeab9d",
   "metadata": {},
   "outputs": [
    {
     "name": "stdout",
     "output_type": "stream",
     "text": [
      "Distancia Solucion Incial: 3654\n",
      "Distancia Mejor Solucion Local: 3337\n"
     ]
    }
   ],
   "source": [
    "###############################################################################\n",
    "# BUSQUEDA LOCAL\n",
    "###############################################################################\n",
    "def genera_vecina(solucion):\n",
    "  #Generador de soluciones vecinas: 2-opt (intercambiar 2 nodos) Si hay N nodos se generan (N-1)x(N-2)/2 soluciones\n",
    "  #Se puede modificar para aplicar otros generadores distintos que 2-opt\n",
    "  #print(solucion)\n",
    "    mejor_solucion = []\n",
    "    mejor_distancia = 10e100\n",
    "    for i in range(1,len(solucion)-1):          #Recorremos todos los nodos en bucle doble para evaluar todos los intercambios 2-opt\n",
    "        for j in range(i+1, len(solucion)):\n",
    "      \n",
    "            #Se genera una nueva solución intercambiando los dos nodos i,j:\n",
    "            #  (usamos el operador + que para listas en python las concatena) : ej.: [1,2] + [3] = [1,2,3]\n",
    "            vecina = solucion[:i] + [solucion[j]] + solucion[i+1:j] + [solucion[i]] + solucion[j+1:]   \n",
    "\n",
    "            #Se evalua la nueva solución ...\n",
    "            distancia_vecina = distancia_total(vecina, problem)         \n",
    "\n",
    "            #... para guardarla si mejora las anteriores\n",
    "            if distancia_vecina <= mejor_distancia:\n",
    "                mejor_distancia = distancia_vecina\n",
    "                mejor_solucion = vecina\n",
    "    return mejor_solucion\n",
    "\n",
    "\n",
    "#solucion = [1, 47, 13, 41, 40, 19, 42, 44, 37, 5, 22, 28, 3, 2, 29, 21, 50, 34, 30, 9, 16, 11, 38, 49, 10, 39, 33, 45, 15, 24, 43, 26, 31, 36, 35, 20, 8, 7, 23, 48, 27, 12, 17, 4, 18, 25, 14, 6, 51, 46, 32]\n",
    "print(\"Distancia Solucion Incial:\" , distancia_total(solucion, problem))\n",
    " \n",
    "\n",
    "nueva_solucion = genera_vecina(solucion)\n",
    "print(\"Distancia Mejor Solucion Local:\", distancia_total(nueva_solucion, problem))\n"
   ]
  },
  {
   "cell_type": "code",
   "execution_count": 17,
   "id": "86866be1",
   "metadata": {},
   "outputs": [
    {
     "name": "stdout",
     "output_type": "stream",
     "text": [
      "En la iteracion  37 , la mejor solución encontrada es: [0, 7, 15, 37, 31, 20, 33, 35, 36, 17, 1, 6, 4, 3, 2, 18, 12, 11, 25, 41, 23, 10, 13, 19, 16, 14, 27, 28, 22, 38, 34, 32, 30, 29, 9, 39, 24, 40, 21, 8, 26, 5]\n",
      "Distancia     : 1870\n"
     ]
    }
   ],
   "source": [
    "#  - Sobre el operador de vecindad 2-opt(funcion genera_vecina)\n",
    "#  - Sin criterio de parada, se para cuando no es posible mejorar.\n",
    "def busqueda_local(problem):\n",
    "    mejor_solucion = []\n",
    "  \n",
    "    #Generar una solucion inicial de referencia(aleatoria)\n",
    "    solucion_referencia = crear_solucion(Nodos)\n",
    "    mejor_distancia = distancia_total(solucion_referencia, problem)\n",
    "\n",
    "    iteracion=0             #Un contador para saber las iteraciones que hacemos\n",
    "    while(1):\n",
    "        iteracion +=1         #Incrementamos el contador\n",
    "        #print('#',iteracion)\n",
    "\n",
    "        #Obtenemos la mejor vecina ...\n",
    "        vecina = genera_vecina(solucion_referencia)\n",
    "\n",
    "        #... y la evaluamos para ver si mejoramos respecto a lo encontrado hasta el momento\n",
    "        distancia_vecina = distancia_total(vecina, problem)\n",
    " \n",
    "        #Si no mejoramos hay que terminar. Hemos llegado a un minimo local(según nuestro operador de vencindad 2-opt)\n",
    "        if distancia_vecina < mejor_distancia:\n",
    "            #mejor_solucion = copy.deepcopy(vecina)   #Con copia profunda. Las copias en python son por referencia \n",
    "            mejor_solucion = vecina                   #Guarda la mejor solución encontrada\n",
    "            mejor_distancia = distancia_vecina\n",
    "\n",
    "        else:\n",
    "            print(\"En la iteracion \", iteracion, \", la mejor solución encontrada es:\" , mejor_solucion) \n",
    "            print(\"Distancia     :\" , mejor_distancia) \n",
    "            return mejor_solucion\n",
    "      \n",
    "        solucion_referencia = vecina\n",
    " \n",
    " \n",
    "sol = busqueda_local(problem)"
   ]
  },
  {
   "cell_type": "markdown",
   "id": "0cd8ac65",
   "metadata": {},
   "source": [
    "# SIMULATED ANNEALING"
   ]
  },
  {
   "cell_type": "code",
   "execution_count": 20,
   "id": "5bd276b1",
   "metadata": {},
   "outputs": [],
   "source": [
    "#Generador de 1 solucion vecina 2-opt 100% aleatoria (intercambiar 2 nodos)\n",
    "#Mejorable eligiendo otra forma de elegir una vecina.\n",
    "def genera_vecina_aleatorio(solucion):\n",
    "\n",
    "  #Se eligen dos nodos aleatoriamente\n",
    "      i,j = sorted(random.sample( range(1,len(solucion)) , 2))\n",
    "  \n",
    "  #Devuelve una nueva solución pero intercambiando los dos nodos elegidos al azar\n",
    "      return solucion[:i] + [solucion[j]] + solucion[i+1:j] + [solucion[i]] + solucion[j+1:]\n",
    "\n",
    "    \n",
    "#Funcion de probabilidad para aceptar peores soluciones\n",
    "def probabilidad(T,d):\n",
    "    if random.random() <  math.exp( -1*d / T)  :\n",
    "        return True\n",
    "    else:\n",
    "        return False\n",
    "\n",
    "#Funcion de descenso de temperatura\n",
    "def bajar_temperatura(T):\n",
    "    return T*0.99"
   ]
  },
  {
   "cell_type": "code",
   "execution_count": 23,
   "id": "c1c16922",
   "metadata": {},
   "outputs": [
    {
     "name": "stdout",
     "output_type": "stream",
     "text": [
      "La mejor solución encontrada es [0, 32, 34, 33, 20, 31, 17, 37, 15, 14, 1, 2, 28, 9, 41, 25, 11, 12, 8, 10, 13, 19, 16, 36, 35, 7, 5, 4, 6, 26, 18, 23, 40, 24, 21, 39, 29, 22, 38, 30, 27, 3]\n",
      "con una distancia total de 1863\n"
     ]
    }
   ],
   "source": [
    "def recocido_simulado(problem, TEMPERATURA ):\n",
    "  #problem = datos del problema\n",
    "  #T = Temperatura\n",
    "  \n",
    "    solucion_referencia = crear_solucion(Nodos)\n",
    "    distancia_referencia = distancia_total(solucion_referencia, problem)\n",
    "  \n",
    "    mejor_solucion = []             #x* del seudocodigo\n",
    "    mejor_distancia = 10e100        #F* del seudocodigo\n",
    "  \n",
    "  \n",
    "    N=0\n",
    "    while TEMPERATURA > .0001:\n",
    "        N+=1\n",
    "        #Genera una solución vecina\n",
    "        vecina =genera_vecina_aleatorio(solucion_referencia)\n",
    "    \n",
    "        #Calcula su valor(distancia)\n",
    "        distancia_vecina = distancia_total(vecina, problem)\n",
    "      \n",
    "        #Si es la mejor solución de todas se guarda(siempre!!!)\n",
    "        if distancia_vecina < mejor_distancia:\n",
    "            mejor_solucion = vecina\n",
    "            mejor_distancia = distancia_vecina\n",
    "    \n",
    "        #Si la nueva vecina es mejor se cambia  \n",
    "        #Si es peor se cambia según una probabilidad que depende de T y delta(distancia_referencia - distancia_vecina)\n",
    "        if distancia_vecina < distancia_referencia or probabilidad(TEMPERATURA, abs(distancia_referencia - distancia_vecina) ) :\n",
    "        #solucion_referencia = copy.deepcopy(vecina)\n",
    "            solucion_referencia = vecina\n",
    "            distancia_referencia = distancia_vecina\n",
    "\n",
    "        #Bajamos la temperatura\n",
    "        TEMPERATURA = bajar_temperatura(TEMPERATURA)\n",
    " \n",
    "    print(\"La mejor solución encontrada es \" , end=\"\")\n",
    "    print(mejor_solucion)\n",
    "    print(\"con una distancia total de \" , end=\"\")\n",
    "    print(mejor_distancia)\n",
    "    return mejor_solucion\n",
    "\n",
    "sol  = recocido_simulado(problem, 10000000)"
   ]
  },
  {
   "cell_type": "markdown",
   "id": "13e1838e",
   "metadata": {},
   "source": [
    "# II) COLONIA DE HORMIGAS"
   ]
  },
  {
   "cell_type": "code",
   "execution_count": 26,
   "id": "0113811b",
   "metadata": {},
   "outputs": [],
   "source": [
    "#DATOS DEL PROBLEMA\n",
    "# Descargar archivo comprimido\n",
    "file_url = \"http://comopt.ifi.uni-heidelberg.de/software/TSPLIB95/tsp/swiss42.tsp.gz\"\n",
    "file = \"swiss42.tsp.gz\"\n",
    "urllib.request.urlretrieve(file_url, file_name)\n",
    "\n",
    "# Leer contenido del archivo como bytes\n",
    "with open(file, 'rb') as f:\n",
    "    file_content = f.read()\n",
    "\n",
    "# Descomprimir archivo\n",
    "uncompressed_content = gzip.decompress(file_content)\n",
    "\n",
    "# Guardar archivo descomprimido\n",
    "output_file_name = \"swiss42.tsp\"\n",
    "with open(output_file_name, 'wb') as f:\n",
    "    f.write(uncompressed_content)\n",
    "    \n",
    "problem = tsplib95.load(output_file_name)\n",
    "\n",
    "#Nodos\n",
    "Nodos = list(problem.get_nodes())\n",
    "\n",
    "#Devuelve la distancia entre dos nodos\n",
    "def distancia(a,b, problem):\n",
    "    return problem.get_weight(a,b)\n",
    "\n",
    "#Devuelve la distancia total de una trayectoria/solucion(lista de nodos)\n",
    "def distancia_total(solucion, problem):\n",
    "    distancia_total = 0\n",
    "    for i in range(len(solucion)-1):\n",
    "        distancia_total += distancia(solucion[i] ,solucion[i+1] ,  problem)\n",
    "    return distancia_total + distancia(solucion[len(solucion)-1] ,solucion[0], problem)"
   ]
  },
  {
   "cell_type": "code",
   "execution_count": 27,
   "id": "e9eed82a",
   "metadata": {},
   "outputs": [],
   "source": [
    "#La función 'Add_Nodo' selecciona al azar uno nodo con probabilidad uniforme\n",
    "def Add_Nodo(problem, H ,T ) :\n",
    "  #Mejora:Establecer una funcion de probabilidad para \n",
    "  # añadir un nuevo nodo dependiendo de los nodos mas cercanos y de las feromonas depositadas\n",
    "    Nodos = list(problem.get_nodes())\n",
    "    return random.choice(   list(set(range(1,len(Nodos))) - set(H) )  )\n",
    "\n",
    "\n",
    "def Incrementa_Feromona(problem, T, H ) :\n",
    "  #Incrementa segun la calidad de la solución. Añadir una cantidad inversamente proporcional a la distancia total \n",
    "    for i in range(len(H)-1):\n",
    "        T[H[i]][H[i+1]] += 1000/distancia_total(H, problem)\n",
    "    return T\n",
    "\n",
    "def Evaporar_Feromonas(T ):\n",
    "  #Evapora 0.3 el valor de la feromona, sin que baje de 1\n",
    "  #Mejora:Podemos elegir diferentes funciones de evaporación dependiendo de la cantidad actual y de la suma total de feromonas depositadas,...\n",
    "    T = [[ max(T[i][j] - 0.3 , 1) for i in range(len(Nodos)) ] for j in range(len(Nodos))]\n",
    "    return T"
   ]
  },
  {
   "cell_type": "code",
   "execution_count": 30,
   "id": "9479aed5",
   "metadata": {},
   "outputs": [
    {
     "name": "stdout",
     "output_type": "stream",
     "text": [
      "[0, 30, 34, 38, 39, 28, 14, 5, 7, 9, 18, 13, 15, 1, 4, 19, 11, 21, 23, 40, 32, 37, 26, 8, 41, 6, 16, 20, 12, 27, 17, 31, 35, 36, 3, 2, 33, 25, 29, 24, 10, 22]\n",
      "3863\n"
     ]
    }
   ],
   "source": [
    "def hormigas(problem, N) :\n",
    "    #problem = datos del problema\n",
    "    #N = Número de agentes(hormigas)\n",
    "    \n",
    "    #Nodos\n",
    "    Nodos = list(problem.get_nodes())\n",
    "    #Aristas\n",
    "    Aristas = list(problem.get_edges()) \n",
    "  \n",
    "    #Inicializa las aristas con una cantidad inicial de feromonas:1\n",
    "    #Mejora: inicializar con valores diferentes dependiendo diferentes criterios\n",
    "    T = [[ 1 for _ in range(len(Nodos)) ] for _ in range(len(Nodos))]\n",
    "  \n",
    "    #Se generan los agentes(hormigas) que serán estructuras de caminos desde 0\n",
    "    Hormiga = [[0] for _ in range(N)]\n",
    "  \n",
    "    #Recorre cada agente construyendo la solución\n",
    "    for h in range(N) :\n",
    "      #Para cada agente se construye un camino\n",
    "      for i in range(len(Nodos)-1) :\n",
    "      \n",
    "            #Elige el siguiente nodo\n",
    "            Nuevo_Nodo = Add_Nodo(problem, Hormiga[h] ,T )\n",
    "            Hormiga[h].append(Nuevo_Nodo)     \n",
    "    \n",
    "    #Incrementa feromonas en esa arista \n",
    "      T = Incrementa_Feromona(problem, T, Hormiga[h] )\n",
    "    \n",
    "    #Evapora Feromonas  \n",
    "      T = Evaporar_Feromonas(T)\n",
    "\n",
    "    #Seleccionamos el mejor agente\n",
    "    mejor_solucion = []\n",
    "    mejor_distancia = 10e100\n",
    "    for h in range(N) :\n",
    "        distancia_actual = distancia_total(Hormiga[h], problem)\n",
    "        if distancia_actual < mejor_distancia:\n",
    "            mejor_solucion = Hormiga[h]\n",
    "            mejor_distancia =distancia_actual\n",
    "  \n",
    "  \n",
    "    print(mejor_solucion)\n",
    "    print(mejor_distancia)\n",
    "  \n",
    "  \n",
    "hormigas(problem, 1000)"
   ]
  },
  {
   "cell_type": "code",
   "execution_count": null,
   "id": "db13fe0f",
   "metadata": {},
   "outputs": [],
   "source": []
  }
 ],
 "metadata": {
  "kernelspec": {
   "display_name": "Python 3 (ipykernel)",
   "language": "python",
   "name": "python3"
  },
  "language_info": {
   "codemirror_mode": {
    "name": "ipython",
    "version": 3
   },
   "file_extension": ".py",
   "mimetype": "text/x-python",
   "name": "python",
   "nbconvert_exporter": "python",
   "pygments_lexer": "ipython3",
   "version": "3.9.12"
  }
 },
 "nbformat": 4,
 "nbformat_minor": 5
}

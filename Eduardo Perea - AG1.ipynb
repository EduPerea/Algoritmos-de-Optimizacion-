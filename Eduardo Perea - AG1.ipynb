{
 "cells": [
  {
   "cell_type": "markdown",
   "id": "10473d59",
   "metadata": {},
   "source": [
    "Actividad Guiada 1 de Algoritmos de Optimizacion\n",
    "\n",
    "Nombre: Eduardo Perea Montesino"
   ]
  },
  {
   "cell_type": "markdown",
   "id": "44cc8249",
   "metadata": {},
   "source": [
    "Enlace plantilla ejercicio:"
   ]
  },
  {
   "cell_type": "markdown",
   "id": "5213618e",
   "metadata": {},
   "source": [
    "https://colab.research.google.com/drive/1KdGsTbI3pbVcxlExfabt7rZqMVuIyGcy?authuser=1#scrollTo=rTiqLuX2ZKuL"
   ]
  },
  {
   "cell_type": "markdown",
   "id": "7187c3d3",
   "metadata": {},
   "source": [
    "I) DIVIDE Y VENCERÁS"
   ]
  },
  {
   "cell_type": "code",
   "execution_count": 2,
   "id": "06140da8",
   "metadata": {},
   "outputs": [
    {
     "name": "stdout",
     "output_type": "stream",
     "text": [
      "Lleva la ficha desde 1 hasta 3\n",
      "Lleva la ficha desde 1 hasta 2\n",
      "Lleva la ficha desde 3 hasta 2\n",
      "Lleva la ficha desde 1 hasta 3\n",
      "Lleva la ficha desde 2 hasta 1\n",
      "Lleva la ficha desde 2 hasta 3\n",
      "Lleva la ficha desde 1 hasta 3\n"
     ]
    }
   ],
   "source": [
    "#N:fichas , desde: poste inicial , hasta: poste final \n",
    "def Torres_Hanoi(N,desde,hasta):\n",
    "    \n",
    "    if N ==1 :\n",
    "        #Printeamos el movimiento a hacer\n",
    "        print(\"Lleva la ficha desde \" + str(desde) + \" hasta \" + str(hasta))  \n",
    "        \n",
    "    else:\n",
    "        #Aplicamos metodo recursivo --> Llamamos a la propia función\n",
    "        #En vez de mover hasta el poste \"hasta\", lo hacemos al pivote\n",
    "        #Ponemos 6 para calcular el pivote porque siempre son 3 postes independientemente de las fichas \n",
    "        Torres_Hanoi(N-1,desde,6-desde-hasta) \n",
    "        print(\"Lleva la ficha desde \" + str(desde) + \" hasta \" + str(hasta))\n",
    "        \n",
    "        Torres_Hanoi(N-1,6-desde-hasta,hasta)\n",
    "        \n",
    "Torres_Hanoi(3,1,3)        "
   ]
  },
  {
   "cell_type": "markdown",
   "id": "900a7fc9",
   "metadata": {},
   "source": [
    "II) Algoritmos Voraces"
   ]
  },
  {
   "cell_type": "code",
   "execution_count": 4,
   "id": "71c341d4",
   "metadata": {},
   "outputs": [
    {
     "name": "stdout",
     "output_type": "stream",
     "text": [
      "Sistema de monedas:\n",
      "[11, 5, 1]\n"
     ]
    },
    {
     "data": {
      "text/plain": [
       "{11: 11, 5: 0, 1: 2}"
      ]
     },
     "execution_count": 4,
     "metadata": {},
     "output_type": "execute_result"
    }
   ],
   "source": [
    "def cambio_monedas(cantidad, sistema):\n",
    "\n",
    "  # cantidad a cambiar\n",
    "  # sistema: valor de las monedas diferente, ordenado de mayor valor a menor\n",
    "    print('Sistema de monedas:')\n",
    "    print(sistema)\n",
    "    \n",
    "    solucion = {}\n",
    "\n",
    "    for v in sistema:\n",
    "\n",
    "        monedas = cantidad // v\n",
    "        solucion[v] = monedas\n",
    "        cantidad -= monedas * v\n",
    "\n",
    "        if cantidad == 0:\n",
    "\n",
    "            return solucion   #Aunque parezca que hay un problema con el indent si no pongo hay el return me da error.    \n",
    "\n",
    "cambio_monedas(123,[11,5,1])"
   ]
  },
  {
   "cell_type": "markdown",
   "id": "18e170a8",
   "metadata": {},
   "source": [
    "III) Backtracking"
   ]
  },
  {
   "cell_type": "code",
   "execution_count": 5,
   "id": "578f672b",
   "metadata": {},
   "outputs": [],
   "source": [
    "def NReinas(n): \n",
    "    tablero = [[0 for i in range(n)] for j in range(n)] \n",
    "\n",
    "    if Resolucion(tablero, 0, n) == False: \n",
    "        print(\"No existe solución\")\n",
    "        return False\n",
    "\n",
    "    printSolution(tablero, n) \n",
    "    return True"
   ]
  },
  {
   "cell_type": "code",
   "execution_count": 6,
   "id": "af4e2ba0",
   "metadata": {},
   "outputs": [],
   "source": [
    "def Resolucion(tablero, col, n): \n",
    "    if col >= n: \n",
    "        return True\n",
    "\n",
    "    for i in range(n): \n",
    "        if es_prometedora(tablero, i, col, n): \n",
    "            #Si no hay amenazas colocamos una reina\n",
    "            tablero[i][col] = 1\n",
    "            \n",
    "            #Aplicamos recursividad\n",
    "            if Resolucion(tablero, col + 1, n) == True: \n",
    "                return True\n",
    "\n",
    "            tablero[i][col] = 0\n",
    "\n",
    "    return False"
   ]
  },
  {
   "cell_type": "code",
   "execution_count": 7,
   "id": "772453fd",
   "metadata": {},
   "outputs": [],
   "source": [
    "def es_prometedora(tablero, row, col, n): \n",
    "    # Comprobamos si hay otra reina en la misma columna\n",
    "    for i in range(col): \n",
    "        if tablero[row][i] == 1: \n",
    "            return False\n",
    "    \n",
    "    # Comprobamos si hay otra reina en la diagonal izquierda\n",
    "    for i, j in zip(range(row, -1, -1), range(col, -1, -1)):\n",
    "        if tablero[i][j] == 1: \n",
    "            return False\n",
    "    \n",
    "    # Comprobamos si hay otra reina en la diagonal derecha\n",
    "    for i, j in zip(range(row, -1, -1), range(col, n)):\n",
    "        if tablero[i][j] == 1: \n",
    "            return False\n",
    "    \n",
    "    return True"
   ]
  },
  {
   "cell_type": "code",
   "execution_count": 8,
   "id": "6f21022e",
   "metadata": {},
   "outputs": [],
   "source": [
    "#Función para printear la posición de las reinas en el tablero\n",
    "def printSolution(tablero, n): \n",
    "    for i in range(n): \n",
    "        for j in range(n): \n",
    "            print(tablero[i][j], end = \" \") \n",
    "        print()"
   ]
  },
  {
   "cell_type": "code",
   "execution_count": 9,
   "id": "3fb1ef5a",
   "metadata": {},
   "outputs": [
    {
     "name": "stdout",
     "output_type": "stream",
     "text": [
      "1 0 0 0 0 0 \n",
      "0 0 0 0 0 1 \n",
      "0 0 0 0 1 0 \n",
      "0 1 0 0 0 0 \n",
      "0 0 0 1 0 0 \n",
      "0 0 1 0 0 0 \n"
     ]
    },
    {
     "data": {
      "text/plain": [
       "True"
      ]
     },
     "execution_count": 9,
     "metadata": {},
     "output_type": "execute_result"
    }
   ],
   "source": [
    "#Vale para cualquier 'n'\n",
    "NReinas(6)"
   ]
  },
  {
   "cell_type": "code",
   "execution_count": null,
   "id": "f2168666",
   "metadata": {},
   "outputs": [],
   "source": []
  }
 ],
 "metadata": {
  "kernelspec": {
   "display_name": "Python 3 (ipykernel)",
   "language": "python",
   "name": "python3"
  },
  "language_info": {
   "codemirror_mode": {
    "name": "ipython",
    "version": 3
   },
   "file_extension": ".py",
   "mimetype": "text/x-python",
   "name": "python",
   "nbconvert_exporter": "python",
   "pygments_lexer": "ipython3",
   "version": "3.9.12"
  }
 },
 "nbformat": 4,
 "nbformat_minor": 5
}
